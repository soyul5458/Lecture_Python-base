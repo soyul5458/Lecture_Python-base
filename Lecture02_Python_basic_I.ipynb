{
  "nbformat": 4,
  "nbformat_minor": 0,
  "metadata": {
    "colab": {
      "private_outputs": true,
      "provenance": [],
      "include_colab_link": true
    },
    "kernelspec": {
      "name": "python3",
      "display_name": "Python 3"
    },
    "language_info": {
      "name": "python"
    }
  },
  "cells": [
    {
      "cell_type": "markdown",
      "metadata": {
        "id": "view-in-github",
        "colab_type": "text"
      },
      "source": [
        "<a href=\"https://colab.research.google.com/github/soyul5458/Lecture_Python-base/blob/main/Lecture02_Python_basic_I.ipynb\" target=\"_parent\"><img src=\"https://colab.research.google.com/assets/colab-badge.svg\" alt=\"Open In Colab\"/></a>"
      ]
    },
    {
      "cell_type": "markdown",
      "metadata": {
        "id": "SXlbbISE5jiR"
      },
      "source": [
        "# Python 소개"
      ]
    },
    {
      "cell_type": "markdown",
      "metadata": {
        "id": "0mioKNFO55JE"
      },
      "source": [
        "## 파이썬이란\n",
        "\n",
        "* 네덜란드의 귀도 반 로썸 (Gudi Van Rossum)이 발표한 프로그래밍 언어\n",
        "* 귀도는 크리스마스에 자신이 출근하던 연구실의 문이 닫혀 있어 취미 삼아 파이썬을 만든 뒤, 보완하여 1991년에 외부에 공개\n",
        "* python 단어는 비단뱀을 의미하여, 로고가 뱀 모양임\n",
        "* 다양한 플랫폼에서 사용 가능\n",
        "* 인터프리터 및 동적 타이핑을 통한 실행 결과 바로 확인 및 자료형 검사 가능\n",
        "* 다른 언어, 시스템 간 유연한 확장 구조\n",
        "* 풍부한 확장 패키지 제공으로 개발 생산성이 높음\n",
        "\n",
        "![image.png](data:image/png;base64,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)\n",
        "\n"
      ]
    },
    {
      "cell_type": "markdown",
      "metadata": {
        "id": "X-fwGHaS654-"
      },
      "source": [
        "## 파이썬의 활용 범위\n",
        "\n",
        "* Numpy, Pandas 모듈을 이용한 데이터 사이언스 분야에서 활용도 높음\n",
        "* Scikit-learn의 머신러닝, Tensorflow의 딥러닝을 쉽게 구현할 수 있음\n",
        "* 웹프로그래밍, 수치연산, 데이터베이스 프로그래밍 등 다양한 분야에 활용 가능\n",
        "\n"
      ]
    },
    {
      "cell_type": "markdown",
      "metadata": {
        "id": "B0tzS4rl7B1t"
      },
      "source": [
        "## 파이썬 문법의 특징\n",
        "\n",
        "* 복잡한 행렬수학을 손쉽게 처리할 수 있는 고수준 언어\n",
        "* 문법이 간결하고 텍스트 및 데이터 처리가 유연하여 생산성 높음\n",
        "* 객체지향적, 기능적, 과정적 언어로 재사용 편리"
      ]
    },
    {
      "cell_type": "markdown",
      "metadata": {
        "id": "rBR8DigV7llJ"
      },
      "source": [
        "## 파이썬 라이브러리\n",
        "\n",
        "* 패키지란 특정한 목적에 활용하기 위하여 제작된 로직과 코드들을 묶어서 배포하는 형태\n",
        "* 개발한 로직과 코드를 공유\n",
        "\n",
        "<br>\n",
        "\n",
        "\n",
        "패키지명 | 설명 | 웹사이트\n",
        ":--- | :--- | :---\n",
        "NumPy | 수치 해석, 특히 선형대수(linear algebra) 계산 기능 제공 | http://www.numpy.org/\n",
        "Pandas | 테이블 형태의 데이터를 다루기 위한 데이터 프레임 자료형 제공 | http://pandas.pydata.org/\n",
        "SciPy | 고급수학함수, 수치적 미적분, 미분방정식 계산, 최적화, 신호처리 등을 위한 다양한 계산기능 제공 | http://www.scipy.org/\n",
        "SymPy | 인수분해, 미분, 적분 등 심볼릭 연산 기능 제공 | http://www.sympy.org/\n",
        "StatsModels | 통계 및 회귀분석이나 시계열 분석을 위한 라이브러리 | http://www.statsmodels.org/\n",
        "Matplotlib | 각종 그래프나 차트 등을 그리기 위한 시각화 기능 제공 | http://matplotlib.org/\n",
        "Seaborn | Matplotlib 패키지에서 지원하지 않는 고급통계차트 등의 통계용 시각화 기능 제공 | http://stanford.edu/~mwaskom/software/seaborn/\n",
        "Bokeh | 주피터 노트북이나 웹상에서 자바스크립트로 그래프나 차트를 그려주는 기능 제공 | http://bokeh.pydata.org/\n",
        "Scikit-learn | 대부분의 머신러닝 모형 제공 | http://scikit-learn.org/\n",
        "TensorFlow | 신경망 모형 등의 딥러닝 모형을 위한 파이썬 패키지 | https://www.tensorflow.org/\n",
        "Keras | 신경망모형으로 TensorFlow 패키지를 연동하면 쉽게 신경망 모형 구축 가능 | https://keras.io/\n"
      ]
    },
    {
      "cell_type": "markdown",
      "metadata": {
        "id": "fWAF7IZ7-i6G"
      },
      "source": [
        "# 파이썬 기초\n"
      ]
    },
    {
      "cell_type": "markdown",
      "metadata": {
        "id": "zxfz7TMsgpVU"
      },
      "source": [
        "## print()\n",
        "\n",
        "* 화면출력함수\n",
        "* `print(x1, x2, ...)`: x1, x2 위치에 출력하고 싶은 값을 순차적으로 입력"
      ]
    },
    {
      "cell_type": "code",
      "metadata": {
        "id": "kWNQ1tit-yCr"
      },
      "source": [
        "print(\"Hello Python\")\n",
        "print(100)\n",
        "print(100, \"Hello\", 30)"
      ],
      "execution_count": null,
      "outputs": []
    },
    {
      "cell_type": "markdown",
      "metadata": {
        "id": "So5wBNvVgxKU"
      },
      "source": [
        "* `print()`를 이용하여 줄바꿈하기\n"
      ]
    },
    {
      "cell_type": "code",
      "metadata": {
        "id": "7kjTCIBdg6cF"
      },
      "source": [
        "print(1)\n",
        "print()\n",
        "print(2)"
      ],
      "execution_count": null,
      "outputs": []
    },
    {
      "cell_type": "markdown",
      "metadata": {
        "id": "-W29jkY6_Qw3"
      },
      "source": [
        "## 사칙연산\n",
        "\n",
        "\n",
        "* 더하기, 빼기, 곱하기, 나누기 같은 간단한 산술연산 바로 수행 가능\n",
        "* `()`를 통해 연산 순서 조정 가능"
      ]
    },
    {
      "cell_type": "code",
      "metadata": {
        "id": "-TuQf6xx_Yjp"
      },
      "source": [
        "1 + 2"
      ],
      "execution_count": null,
      "outputs": []
    },
    {
      "cell_type": "code",
      "metadata": {
        "id": "tZ7Lzbft_bat"
      },
      "source": [
        "1 - 2"
      ],
      "execution_count": null,
      "outputs": []
    },
    {
      "cell_type": "code",
      "metadata": {
        "id": "LUMBrtqr_sdX"
      },
      "source": [
        "1 * 2"
      ],
      "execution_count": null,
      "outputs": []
    },
    {
      "cell_type": "code",
      "metadata": {
        "id": "r8do5ClK_thF"
      },
      "source": [
        "1 / 2"
      ],
      "execution_count": null,
      "outputs": []
    },
    {
      "cell_type": "code",
      "metadata": {
        "id": "H90R-1_EA3OM"
      },
      "source": [
        "(1-2)*(1+2) / (3*4)"
      ],
      "execution_count": null,
      "outputs": []
    },
    {
      "cell_type": "markdown",
      "metadata": {
        "id": "0g7psS6TDHvT"
      },
      "source": [
        "## 들여쓰기 (indentation)\n",
        "    \n",
        "* 파이썬은 들여쓰기를 통해 코드의 블록을 구분\n",
        "* space와 tab 모두 사용가능하지만 하나로 통일 필요\n",
        "* Google Colab에서는 콜론(:) 다음에는 들여쓰기 자동 적용"
      ]
    },
    {
      "cell_type": "code",
      "metadata": {
        "id": "Dgn1OY0va935"
      },
      "source": [
        "if 1 < 2 :\n",
        "    print(1)"
      ],
      "execution_count": null,
      "outputs": []
    },
    {
      "cell_type": "code",
      "metadata": {
        "id": "ASD_YzH7bI2H"
      },
      "source": [
        "if 1 < 2 :\n",
        "print(1)"
      ],
      "execution_count": null,
      "outputs": []
    },
    {
      "cell_type": "markdown",
      "metadata": {
        "id": "gQrp6XzTbK4-"
      },
      "source": [
        "## 주석처리 (comments)\n",
        "\n",
        "* 코드에 대한 설명 추가 가능\n",
        "* `#`으로 시작하면 해당 라인의 끝까지 주석으로 취급\n"
      ]
    },
    {
      "cell_type": "code",
      "metadata": {
        "id": "MHG9XTS0boX2"
      },
      "source": [
        "2 + 3 # 이건 사과의 개수를 셀때 사용한 코드야\n",
        "\n",
        "# 이건 주석입니다.\n",
        "# 실행되지 않아요.\n",
        "\n"
      ],
      "execution_count": null,
      "outputs": []
    },
    {
      "cell_type": "code",
      "metadata": {
        "id": "mfr3Z1LRehjk"
      },
      "source": [
        "# 여러 줄의 주석을 사용할 때\n",
        "# 해시 표시를 문장의 첫 줄에 넣어\n",
        "# 주석 처리할 수 있음"
      ],
      "execution_count": null,
      "outputs": []
    },
    {
      "cell_type": "markdown",
      "metadata": {
        "id": "tjh-AQzQbzUo"
      },
      "source": [
        "# 변수"
      ]
    },
    {
      "cell_type": "markdown",
      "metadata": {
        "id": "lQMbEOvocIZu"
      },
      "source": [
        "## 변수 할당\n",
        "\n",
        "* 특정 값을 저장하는 공간\n",
        "* 할당하고 싶은 변수를 선언한 뒤, '='를 입력하고 뒤에 넣고 싶은 값을 입력\n",
        "* 할당된 변수끼리 연산 가능\n",
        "\n",
        "![image.png](data:image/png;base64,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)"
      ]
    },
    {
      "cell_type": "code",
      "metadata": {
        "id": "7IdqZmGjcYyI"
      },
      "source": [
        "A = 2\n",
        "print(A)"
      ],
      "execution_count": null,
      "outputs": []
    },
    {
      "cell_type": "code",
      "metadata": {
        "id": "LLQoVV1mcjdH"
      },
      "source": [
        "a = 3\n",
        "print(a)"
      ],
      "execution_count": null,
      "outputs": []
    },
    {
      "cell_type": "code",
      "metadata": {
        "id": "P-73IG7ZclcX"
      },
      "source": [
        "print(A+a)"
      ],
      "execution_count": null,
      "outputs": []
    },
    {
      "cell_type": "markdown",
      "metadata": {
        "id": "wB98HzdwfMtR"
      },
      "source": [
        "* 여러 개의 변수를 동시에 할당"
      ]
    },
    {
      "cell_type": "code",
      "metadata": {
        "id": "q7iHj3E8fU_x"
      },
      "source": [
        "A, a = 2, 3\n",
        "print(A)\n",
        "print(a)"
      ],
      "execution_count": null,
      "outputs": []
    },
    {
      "cell_type": "markdown",
      "metadata": {
        "id": "cCf3tnI_fdVN"
      },
      "source": [
        "* 변수에 다른 값을 할당할 경우 기존 값에 덮어씀"
      ]
    },
    {
      "cell_type": "code",
      "metadata": {
        "id": "IOERI1_Qfm5l"
      },
      "source": [
        "weight = 70\n",
        "print(weight)\n",
        "weight = 60\n",
        "print(weight)"
      ],
      "execution_count": null,
      "outputs": []
    },
    {
      "cell_type": "markdown",
      "metadata": {
        "id": "adaoehd2cm-e"
      },
      "source": [
        "## 변수명 규칙\n",
        "\n",
        "* 문자, 숫자, 언더바(_)로 생성\n",
        "* 첫 글자는 숫자로 시작할 수 없음\n",
        "* 중간에 공백을 가질 수 없음\n",
        "* 대소문자 구분 (a와 A는 다른 변수임)\n",
        "* 예약어(키워드)는 변수명으로 사용할 수 없음\n",
        "* 키워드의 예시\n",
        "\n",
        "\n",
        "|||||||\n",
        "|:---: | :---: | :---: | :---: | :---: | :---: |\n",
        "| False | Class | return | is | finally | None |\n",
        "| if | for | lambda | continue | True | def |\n",
        "| from | while | nonlocal | and | del | global |\n",
        "| not | with | as | elif | try | or |\n",
        "| yield | assert | else | import | pass | break |\n",
        "| except | in | raise |\n",
        "\n"
      ]
    },
    {
      "cell_type": "markdown",
      "metadata": {
        "id": "M6DbcqiEhmTI"
      },
      "source": [
        "* 키가 180cm, 몸무게가 78.2kg인 사람의 체질량지수(BMI)를 파이썬으로 계산해보기\n",
        "\n",
        "$$ BMI = weight(kg)/(height(m)^2)$$\n",
        "\n"
      ]
    },
    {
      "cell_type": "code",
      "metadata": {
        "id": "hNyGdl-oij57"
      },
      "source": [
        "height = 1.80\n",
        "weight = 78.2\n",
        "bmi = weight / height**2\n",
        "print(bmi)"
      ],
      "execution_count": null,
      "outputs": []
    },
    {
      "cell_type": "markdown",
      "metadata": {
        "id": "0UinRYsrj-ZM"
      },
      "source": [
        "# 자료형 (data type)"
      ]
    },
    {
      "cell_type": "markdown",
      "metadata": {
        "id": "_EcPJj7jkOn0"
      },
      "source": [
        "* 파이썬에서 자료형은 유형에 따라 구분 가능\n",
        "* 수치형, 문자형, 논리형, 시퀀스형(리스트, 튜플, 범위), 매핑형(딕셔너리)가 있음"
      ]
    },
    {
      "cell_type": "markdown",
      "metadata": {
        "id": "8m7rEnn9rs7I"
      },
      "source": [
        "| 구분 | 자료형 | 설명 | 예시 |\n",
        "| :--- | :--- | :--- | :--- |\n",
        "| 수치형 | 정수 (integer) | 정수 사용을 위한 자료형. 실수에 포함됨 | i = 10 |\n",
        "| 수치형 | 실수 (floating-point) | 소수점이 포함된 값 | f = 1.234 |\n",
        "| 수치형 | 복소수 (complex) | 복소수 사용을 위한 자료형 | c = 1 + 2j |\n",
        "| 문자형 | 문자열 (strnig) | 문자 사용을 위한 자료형 | s = \"abc\" |\n",
        "| 논리형 | 불리언 (boolean) | True 또는 False | b = True |\n",
        "| 시퀀스형 | 리스트 (list) | 여러 오브젝트를 묶어 하나의 오브젝트로 사용 | l = [1, 2, 3] |\n",
        "| 시퀀스형 | 튜플 (tuple) | 리스트와 유사하나 생성, 삭제, 수정 불가 | t = (1, 2, 3) |\n",
        "| 시퀀스형 | 범위 (range) | 숫자 시퀀스 | r = range(10) |\n",
        "| 매핑형 | 딕셔너리 (dictionary) | 키(key)와 값(value)이 매핑된 자료형 | d = {1:\"one\", 2:\"two\"} |"
      ]
    },
    {
      "cell_type": "markdown",
      "metadata": {
        "id": "Q74zRZVEtWsl"
      },
      "source": [
        "## 정수 (integer)\n",
        "\n",
        "* 10진수 정수를 의미\n",
        "* `type()` : 변수의 자료형을 확인하는 함수"
      ]
    },
    {
      "cell_type": "code",
      "metadata": {
        "id": "TlmCFLHpt9Hr"
      },
      "source": [
        "a = 123\n",
        "print(a)\n",
        "print(type(a))"
      ],
      "execution_count": null,
      "outputs": []
    },
    {
      "cell_type": "markdown",
      "metadata": {
        "id": "jxMZZrndt_1P"
      },
      "source": [
        "## 실수 (floating-point)\n",
        "\n",
        "* 고정소수점 (fixed point) 방식과 부동소수점 (floating-point) 방식으로 구분\n",
        "* 고정소수점 방식 예시 : 소수에서 정수부가 0인 경우에는 정수부분을 제외하고 표현 가능\n"
      ]
    },
    {
      "cell_type": "code",
      "metadata": {
        "id": "O0Gq0WXouVZt"
      },
      "source": [
        "a = 1.234\n",
        "print(a)\n",
        "print(type(a))\n",
        "\n",
        "b = .1\n",
        "print(b)\n",
        "print(type(b))"
      ],
      "execution_count": null,
      "outputs": []
    },
    {
      "cell_type": "markdown",
      "metadata": {
        "id": "SxDYMTxhuZb9"
      },
      "source": [
        "* 부동소수점 방식 예시 : e 기호를 이용하여 지수에 대한 표현 적용\n",
        "\n",
        "$$유효숫자e지수=유효숫자×10^{지수}$$\n"
      ]
    },
    {
      "cell_type": "code",
      "source": [
        "a = 123e2  # 123e2 = 123.0 x 100 = 12300.0\n",
        "print(a)\n",
        "print(type(a))"
      ],
      "metadata": {
        "id": "2rc-Yh7owTVJ"
      },
      "execution_count": null,
      "outputs": []
    },
    {
      "cell_type": "code",
      "metadata": {
        "id": "fS22-mHKuodO"
      },
      "source": [
        "a = 123e-2 # 123e-2 = 123.0 x 0.01 = 1.23\n",
        "print(a)\n",
        "print(type(a))"
      ],
      "execution_count": null,
      "outputs": []
    },
    {
      "cell_type": "markdown",
      "metadata": {
        "id": "7MoAkE7SurXO"
      },
      "source": [
        "## 복소수형 (complex)\n",
        "\n",
        "* 임의의 실수 $a$, $b$에 대해 $a + bi$의 형태로 나타내는 수\n",
        "* 여기에서 $a$는 실수, $b$는 허수 부분\n",
        "* i는 제곱하여 -1이 되는 수로 허수(imaginary number) 단위라고 함\n",
        "* 파이썬에서는 i를 j로 표현\n",
        "* $1 + 23j$와 같이 복소수로 표현하기\n",
        "* 실수부는 `c.real`로 허수부는 `c.imag`로 출력\n"
      ]
    },
    {
      "cell_type": "code",
      "metadata": {
        "id": "yfGHeOlDu8v2"
      },
      "source": [
        "a = 1 + 23j\n",
        "print(a)\n",
        "print(type(a))\n",
        "print(a.real)\n",
        "print(a.imag)"
      ],
      "execution_count": null,
      "outputs": []
    },
    {
      "cell_type": "markdown",
      "metadata": {
        "id": "fl_jnrggvC1V"
      },
      "source": [
        "## 문자열 (string)\n",
        "\n",
        "* 따옴표(') 또는 쌍따옴표(\")를 이용하여 표현"
      ]
    },
    {
      "cell_type": "code",
      "metadata": {
        "id": "hlvp-ZHGvLuI"
      },
      "source": [
        "a = \"abc\"\n",
        "print(a)\n",
        "print(type(a))"
      ],
      "execution_count": null,
      "outputs": []
    },
    {
      "cell_type": "markdown",
      "metadata": {
        "id": "L0-pfAakvPcK"
      },
      "source": [
        "## 리스트 (list)\n",
        "\n",
        "* 여러 개의 객체를 하나의 객체로 묶어서 표현하는 자료형\n",
        "* 대괄호([ ]) 안에 여러 값을 콤마(,)를 구분자로 표현하여 리스트 생성\n"
      ]
    },
    {
      "cell_type": "code",
      "metadata": {
        "id": "TlwD3n2OvRzG"
      },
      "source": [
        "a = [1, 2, 3]\n",
        "print(a)\n",
        "print(type(a))"
      ],
      "execution_count": null,
      "outputs": []
    },
    {
      "cell_type": "markdown",
      "metadata": {
        "id": "zSyioz83vi60"
      },
      "source": [
        "* 다른 자료형을 갖는 객체들을 동시에 포함할 수 있음"
      ]
    },
    {
      "cell_type": "code",
      "metadata": {
        "id": "Q5Uhw3KDvnKV"
      },
      "source": [
        "a = [1, \"one\", 2, \"two\", 3, \"three\"]\n",
        "print(a)\n",
        "print(type(a))"
      ],
      "execution_count": null,
      "outputs": []
    },
    {
      "cell_type": "markdown",
      "metadata": {
        "id": "wqP23iRDvsjt"
      },
      "source": [
        "## 튜플 (tuple)\n",
        "\n",
        "* 리스트 자료형과 유사하지만 생성, 삭제, 수정이 불가\n",
        "* 괄호(()) 안에 여러 값을 콤마(,)로 구분하여 사용\n"
      ]
    },
    {
      "cell_type": "code",
      "metadata": {
        "id": "EF6-C4iBv2Pt"
      },
      "source": [
        "a = (1, 2, 3)\n",
        "print(a)\n",
        "print(type(a))"
      ],
      "execution_count": null,
      "outputs": []
    },
    {
      "cell_type": "markdown",
      "metadata": {
        "id": "c3bJnWPKv4Yu"
      },
      "source": [
        "## 범위 (range)\n",
        "\n",
        "* 불변하는 수열 자료형"
      ]
    },
    {
      "cell_type": "code",
      "metadata": {
        "id": "1jV4lpF9wIZ0"
      },
      "source": [
        "a = range(10)\n",
        "print(a)\n",
        "print(type(a))"
      ],
      "execution_count": null,
      "outputs": []
    },
    {
      "cell_type": "markdown",
      "metadata": {
        "id": "N06VandcwLHu"
      },
      "source": [
        "## 딕셔너리 (dictionary)\n",
        "\n",
        "* 키(key)와 값(value)를 한 쌍으로 갖는 자료형\n",
        "* 구분자(:)를 이용하여 key와 value를 하나의 값으로 저장\n",
        "* `dict()`을 이용하여 딕셔너리를 선언하기도 함"
      ]
    },
    {
      "cell_type": "code",
      "metadata": {
        "id": "9lHWnqmNwWXH"
      },
      "source": [
        "a = {\"one\":1, \"two\":2}\n",
        "print(a)\n",
        "print(type(a))"
      ],
      "execution_count": null,
      "outputs": []
    },
    {
      "cell_type": "code",
      "metadata": {
        "id": "FB_WrxnQyt10"
      },
      "source": [
        "a = dict({\"one\":1, \"two\":2})\n",
        "print(a)\n",
        "print(type(a))"
      ],
      "execution_count": null,
      "outputs": []
    },
    {
      "cell_type": "markdown",
      "metadata": {
        "id": "kl8cVopXwbxV"
      },
      "source": [
        "## 자료형 생성 및 변환\n",
        "\n",
        "| 함수 | 설명|\n",
        "| -- | -- |\n",
        "| `int(x)` | x를 정수로 변환|\n",
        "| `float(x)` | x를 실수형(부동소수점 숫자)로 변환 |\n",
        "| `complex(real, [,imag])` | 복소수 생성 |\n",
        "| `str(x)` | x를 문자열 표현으로 변환 |\n",
        "| `bool([x])` | x를 불리언형으로 변환 |\n",
        "| `list(x)` | x를 리스트로 변환 |\n",
        "| `tuple(x)` | s를 튜플로 변환 |"
      ]
    },
    {
      "cell_type": "markdown",
      "metadata": {
        "id": "lGZ6qj2xxm31"
      },
      "source": [
        "* int()"
      ]
    },
    {
      "cell_type": "code",
      "metadata": {
        "id": "6hzkxk8wxeFh"
      },
      "source": [
        "print(int(10))\n",
        "print(int(12.34))\n",
        "print(int(True))\n",
        "print(int(False))\n",
        "print(int(\"10\"))"
      ],
      "execution_count": null,
      "outputs": []
    },
    {
      "cell_type": "markdown",
      "metadata": {
        "id": "syD6bYQWxqmO"
      },
      "source": [
        "* float()"
      ]
    },
    {
      "cell_type": "code",
      "metadata": {
        "id": "10W-66_Cxw-k"
      },
      "source": [
        "print(float(10))\n",
        "print(float(12.34))\n",
        "print(float(True))\n",
        "print(float(False))\n",
        "print(float(\"10\"))"
      ],
      "execution_count": null,
      "outputs": []
    },
    {
      "cell_type": "markdown",
      "metadata": {
        "id": "O43wjzWTx0Pz"
      },
      "source": [
        "* complex()"
      ]
    },
    {
      "cell_type": "code",
      "metadata": {
        "id": "cuSGYFhgx75E"
      },
      "source": [
        "print(complex(10))\n",
        "print(complex(12.34))\n",
        "print(complex(True))\n",
        "print(complex(False))\n",
        "print(complex(\"10\"))"
      ],
      "execution_count": null,
      "outputs": []
    },
    {
      "cell_type": "markdown",
      "metadata": {
        "id": "hjDhwLJkx_n1"
      },
      "source": [
        "* str()"
      ]
    },
    {
      "cell_type": "code",
      "metadata": {
        "id": "RpRAK08gyCGN"
      },
      "source": [
        "print(str(10))\n",
        "print(str(12.34))\n",
        "print(str(True))\n",
        "print(str(False))\n",
        "print(str(\"10\"))"
      ],
      "execution_count": null,
      "outputs": []
    },
    {
      "cell_type": "markdown",
      "metadata": {
        "id": "EeVQ0fzOyDiN"
      },
      "source": [
        "* list()\n",
        "    * 문자열, 리스트, 튜플 등의 자료형을 리스트로 변환"
      ]
    },
    {
      "cell_type": "code",
      "metadata": {
        "id": "ihC9RGecyMhU"
      },
      "source": [
        "print(list(\"abc\"))\n",
        "print(list([1,2,3]))\n",
        "print(list((1,2,3)))"
      ],
      "execution_count": null,
      "outputs": []
    },
    {
      "cell_type": "markdown",
      "metadata": {
        "id": "DVcPPJEiyQ88"
      },
      "source": [
        "* tuple()\n",
        "    * 문자열, 리스트, 튜플 등의 자료형을 리스트로 변환"
      ]
    },
    {
      "cell_type": "code",
      "metadata": {
        "id": "KuAsO5XsyY7s"
      },
      "source": [
        "print(tuple(\"abc\"))\n",
        "print(tuple([1,2,3]))\n",
        "print(tuple((1,2,3)))"
      ],
      "execution_count": null,
      "outputs": []
    },
    {
      "cell_type": "markdown",
      "metadata": {
        "id": "ph8oPQGxzFzb"
      },
      "source": [
        "## 자료형 함수\n"
      ]
    },
    {
      "cell_type": "markdown",
      "metadata": {
        "id": "7TyMKzytzJLn"
      },
      "source": [
        "| 함수 | 설명 |\n",
        "| -- | -- |\n",
        "| `min(x, y, z)` | 입력된 값 중 가장 작은 값을 반환 |\n",
        "| `max(x, y, z)` | 입력된 값 중 가장 큰 값을 반환 |\n",
        "| `sum(x, y, z)` | 입력된 값들의 합을 반환 |\n",
        "| `divmod(a,b)` | `a`를 `b`로 나눈 값과 나머지를 쌍으로 반환 |\n",
        "| `abs(x)` | `x`의 절대값을 반환 |\n",
        "| `pow(a, b)` | `a`의 `b`승의 값을 반환 |\n",
        "| `len(s)` | 시퀀스(문자열, 튜플, 리스트 등)의 갯수를 반환 |\n",
        "| `round(x)` | 소수점 뒤를 반올림한 값을 반환 |"
      ]
    },
    {
      "cell_type": "markdown",
      "metadata": {
        "id": "5B3a9BKSzg3s"
      },
      "source": [
        "* min() : 입력된 값 중 가장 작은 값을 반환\n"
      ]
    },
    {
      "cell_type": "code",
      "metadata": {
        "id": "dMzwBJafzt9v"
      },
      "source": [
        "print(min(1,2,3))\n",
        "print(min([1,2,3]))"
      ],
      "execution_count": null,
      "outputs": []
    },
    {
      "cell_type": "markdown",
      "metadata": {
        "id": "i65Kei6jzwkr"
      },
      "source": [
        "* max() : 입력된 값 중 가장 큰 값을 반환함"
      ]
    },
    {
      "cell_type": "code",
      "metadata": {
        "id": "DhRPzOL70Qoq"
      },
      "source": [
        "print(max(1,2,3))\n",
        "print(max([1,2,3]))"
      ],
      "execution_count": null,
      "outputs": []
    },
    {
      "cell_type": "markdown",
      "metadata": {
        "id": "IgRN7h1z0eDS"
      },
      "source": [
        "* sum() : 입력된 값들의 전체 합을 반환, 단 입력값이 튜플 또는 리스트 형태여야 함\n",
        "\n"
      ]
    },
    {
      "cell_type": "code",
      "metadata": {
        "id": "j0xobwMH0hKN"
      },
      "source": [
        "print(sum((1,2,3)))\n",
        "print(sum([1,2,3]))"
      ],
      "execution_count": null,
      "outputs": []
    },
    {
      "cell_type": "markdown",
      "metadata": {
        "id": "ItuTnXc-0kZh"
      },
      "source": [
        "* divmod(a, b): `a`를 `b`로 나눈 몫과 나머지를 한 쌍으로 반환"
      ]
    },
    {
      "cell_type": "code",
      "metadata": {
        "id": "rlG3Zpd4049T"
      },
      "source": [
        "print(divmod(10,3))"
      ],
      "execution_count": null,
      "outputs": []
    },
    {
      "cell_type": "markdown",
      "metadata": {
        "id": "sf0-vx2I1PSD"
      },
      "source": [
        "* abs() : 절대값 반환"
      ]
    },
    {
      "cell_type": "code",
      "metadata": {
        "id": "otthsbDv1Ude"
      },
      "source": [
        "print(abs(-123))"
      ],
      "execution_count": null,
      "outputs": []
    },
    {
      "cell_type": "markdown",
      "metadata": {
        "id": "N-bsKDEw1X9S"
      },
      "source": [
        "* pow(a, b) : 지수승의 값 $a^b$ 반환"
      ]
    },
    {
      "cell_type": "code",
      "metadata": {
        "id": "NcQiSK3_1d0u"
      },
      "source": [
        "print(pow(2,3))"
      ],
      "execution_count": null,
      "outputs": []
    },
    {
      "cell_type": "markdown",
      "metadata": {
        "id": "TOsPEN-01fLa"
      },
      "source": [
        "* len(seq) : 문자열의 길이 또는 시퀀스의 개수를 반환"
      ]
    },
    {
      "cell_type": "code",
      "metadata": {
        "id": "b9bKP7g51nFE"
      },
      "source": [
        "print(len(\"abcd\"))\n",
        "print(len([\"abc\", 1, 2]))\n",
        "print(len((\"abc\", 1, 2)))\n"
      ],
      "execution_count": null,
      "outputs": []
    },
    {
      "cell_type": "markdown",
      "metadata": {
        "id": "jmyLPDlS1sD7"
      },
      "source": [
        "* round(a, b): a 값을 소수점 b자리까지 반올림한 값 반환"
      ]
    },
    {
      "cell_type": "code",
      "metadata": {
        "id": "OBd6dqvA1yuO"
      },
      "source": [
        "print(round(1.28, 1))"
      ],
      "execution_count": null,
      "outputs": []
    },
    {
      "cell_type": "markdown",
      "metadata": {
        "id": "_2sqhK-a13AJ"
      },
      "source": [
        "# 연산자 (operators)\n"
      ]
    },
    {
      "cell_type": "markdown",
      "metadata": {
        "id": "kJXSsraE1-Aj"
      },
      "source": [
        "## 산술연산자\n",
        "\n",
        "연산자 | 설명 | 예시 | 결과\n",
        ":--- | :--- | :--- | :---\n",
        "+ | 더하기 | 1 + 2 | 3\n",
        "- | 빼기 | 1 - 2 | -1\n",
        "* | 곱하기 | 1 * 2 | 2\n",
        "/ | 나누기 | 1 / 2 | 0.5\n",
        "// | 몫 | 10 // 3 | 3\n",
        "% | 나머지 | 10 % 3 | 1\n",
        "** | 거듭제곱 | 2 ** 3 | 8\n",
        "\n"
      ]
    },
    {
      "cell_type": "code",
      "metadata": {
        "id": "iL1DQ6g23Wy6"
      },
      "source": [
        "a, b = 1, 2\n",
        "print(a + b)\n",
        "print(a - b)\n",
        "print(a * b)\n",
        "print(a / b)\n",
        "print(10 // 3)\n",
        "print(10 % 3)\n",
        "print(2**3)"
      ],
      "execution_count": null,
      "outputs": []
    },
    {
      "cell_type": "markdown",
      "metadata": {
        "id": "hx95cxZk2ERU"
      },
      "source": [
        "## 비교연산자\n",
        "\n",
        "연산자 | 설명 | 예제 | 결과\n",
        ":--- | :--- | :--- | :---\n",
        "<  | 좌변이 작은 | 1 < 2 | True\n",
        "<= | 좌변 이하   | 1 <= 2 | True\n",
        ">  | 우변이 작은 | 1 > 2 | False\n",
        ">= | 우변 이하 | 1 >= 2 | False\n",
        "== | 같은 | 1 == 2 | False\n",
        "!= | 같지 않은 | 1 != 2 | True\n"
      ]
    },
    {
      "cell_type": "code",
      "metadata": {
        "id": "OmV0LNgm3RlR"
      },
      "source": [
        "a, b = 1, 2\n",
        "print(a<b)\n",
        "print(a<=b)\n",
        "print(a>b)\n",
        "print(a>=b)\n",
        "print(a==b)\n",
        "print(a!=b)"
      ],
      "execution_count": null,
      "outputs": []
    },
    {
      "cell_type": "markdown",
      "metadata": {
        "id": "VKasQQCM3yeB"
      },
      "source": [
        "## 논리 연산자\n",
        "\n",
        "\n",
        "연산자 | 설명 | 예제 | 결과\n",
        ":--- | :--- | :--- | :---\n",
        "and | 그리고 | True and True | True\n",
        "or | 또는 | True or False | True\n",
        "not | 아니다 (부정) | not True | False\n"
      ]
    },
    {
      "cell_type": "code",
      "metadata": {
        "id": "MgboSceE4RWy"
      },
      "source": [
        "print(True and True)\n",
        "print(True or False)\n",
        "print(not True)\n",
        "print(not False)\n",
        "print((2>1) and (2==2))"
      ],
      "execution_count": null,
      "outputs": []
    },
    {
      "cell_type": "markdown",
      "metadata": {
        "id": "pZEHpg3f5r1f"
      },
      "source": [
        "## 구성원 연산자\n",
        "연산자 | 설명 | 예제 | 결과\n",
        ":--- | :--- | :--- | :---\n",
        "in | 시퀀스 내 구성원소 여부 | 1 in [1,2,3] | True\n",
        "not in | 시퀀스 내 구성원소가 아닌지 여부 | 5 not in [1,2,3] | True"
      ]
    },
    {
      "cell_type": "code",
      "metadata": {
        "id": "nvuM4o2Q52w8"
      },
      "source": [
        "a, b = 1, 5\n",
        "print(a in [1,2,3])\n",
        "print(b in [1,2,3])\n",
        "print(a not in [1,2,3])\n",
        "print(b not in [1,2,3])\n",
        "print(a in (1,2,3))\n",
        "\n",
        "print(\"a\" in \"abc\")"
      ],
      "execution_count": null,
      "outputs": []
    },
    {
      "cell_type": "markdown",
      "metadata": {
        "id": "CJp03sfW6OeP"
      },
      "source": [
        "## 식별 연산자\n",
        "\n",
        "연산자 | 설명 | 예제 | 결과\n",
        ":--- | :--- | :--- | :---\n",
        "is | 동일한 객체인지 여부 | 1 is 1 | True\n",
        "is not | 동일한 객체가 아닌지 여부 | (1,2,3) is not (1,2,3) | False"
      ]
    },
    {
      "cell_type": "code",
      "metadata": {
        "id": "WBJ44pJ-6mZx"
      },
      "source": [
        "print(1 is 1)\n",
        "print((1,2,3) is not (1,2,3))"
      ],
      "execution_count": null,
      "outputs": []
    },
    {
      "cell_type": "markdown",
      "metadata": {
        "id": "9l7PkZ0h6pPi"
      },
      "source": [
        "## 할당 연산자\n",
        "\n",
        "연산자 | 설명 | 예제\n",
        ":--- | :--- | :---\n",
        "= | 우측 값을 좌측에 할당 | a, b = 1, 2\n",
        "+= | 좌측 값에 우측 값을 더하여 그 결과를 좌측에 할당 | a += 1\n",
        "-= | 좌측 값에 우측 값을 빼서 그 결과를 좌측에 할당 | a -= 1\n",
        "*= | 좌측 값에 우측 값을 곱하여 그 결과를 좌측에 할당 | a *= 1\n",
        "/= | 좌측 값을 우측 값으로 나누어 그 결과를 좌측에 할당 | a /= 1\n",
        "//= | 좌측 값을 우측 값으로 나눈 몫을 좌측에 할당 | a //= 1\n",
        "%= | 좌측 값을 우측 값으로 나눈 나머지를 좌측에 할당 | a %= 1\n",
        "**= | 좌측 값에 우측 값의 제곱값을 좌측에 할당 | a **= 1\n"
      ]
    },
    {
      "cell_type": "code",
      "metadata": {
        "id": "FjA6yGer7qa5"
      },
      "source": [
        "a, b = 3, 2\n",
        "a += b; print(a); a = 3\n",
        "a -= b; print(a); a = 3\n",
        "a *= b; print(a); a = 3\n",
        "a /= b; print(a); a = 3\n",
        "a //= b; print(a); a = 3\n",
        "a %= b; print(a); a = 3\n",
        "a **= b; print(a)\n"
      ],
      "execution_count": null,
      "outputs": []
    },
    {
      "cell_type": "markdown",
      "metadata": {
        "id": "HBlkSp2N7uGv"
      },
      "source": [
        "# 문자열 (string)"
      ]
    },
    {
      "cell_type": "markdown",
      "metadata": {
        "id": "4n2YwbwG8VOj"
      },
      "source": [
        "## 문자열 생성\n",
        "\n",
        "* 문자열은 시퀀스 자료형에 속함\n",
        "* 문자나 단어로 구성\n",
        "* 작은 따옴표 (`'`) 또는 큰 따옴표(`\"`)로 문자열 생성\n"
      ]
    },
    {
      "cell_type": "code",
      "metadata": {
        "id": "UYNdMZMA9ic5"
      },
      "source": [
        "a = \"Tomato\"\n",
        "print(a)"
      ],
      "execution_count": null,
      "outputs": []
    },
    {
      "cell_type": "code",
      "metadata": {
        "id": "SpwOWm0p9lwI"
      },
      "source": [
        "a = \"토마토\"\n",
        "print(a)"
      ],
      "execution_count": null,
      "outputs": []
    },
    {
      "cell_type": "markdown",
      "metadata": {
        "id": "EDqTB1Vu96sX"
      },
      "source": [
        "* 따옴표를 포함한 문자열 생성\n",
        "    * 작은 따옴표를 포함해야 하는 경우 큰 따옴표로 문자열 생성\n",
        "    * 큰 따옴표를 포함해야 하는 경우 작은 따옴표로 문자열 생성\n",
        "    * 백슬래시(\\\\)를 이용하여 작은 따옴표와 큰따옴표 포함"
      ]
    },
    {
      "cell_type": "code",
      "metadata": {
        "id": "-ARhr9Yi-Bb7"
      },
      "source": [
        "a = \"그는 '토마토를 좋아한다'고 말했다\"\n",
        "print(a)\n",
        "a = '그는 \"토마토를 좋아한다\"고 말했다'\n",
        "print(a)\n",
        "a = \"그는 \\\"토마토를 좋아한다\\\"고 말했다\"\n",
        "print(a)"
      ],
      "execution_count": null,
      "outputs": []
    },
    {
      "cell_type": "markdown",
      "metadata": {
        "id": "wWxK5rOW-ffa"
      },
      "source": [
        "## 이스케이프 문자 (escape character)\n",
        "\n",
        "* 문자 앞에 백슬래시(\\\\)를 붙임\n",
        "* 문자열에서 특수문자를 표현할 때 사용하는 방식\n",
        "\n",
        "이스케이프 문자 | 명칭\n",
        ":--- | :---\n",
        "\\\\ | 역슬래시 |\n",
        "\\\\\\' | 작은 따옴표 |\n",
        "\\\\\\\" | 큰 따옴표\n",
        "\\\\b | 백스페이스\n",
        "\\\\n | 한 줄 바꾸기\n",
        "\\\\t | 탭(tab)\n"
      ]
    },
    {
      "cell_type": "markdown",
      "metadata": {
        "id": "kBqGPhIR-7EC"
      },
      "source": [
        "* 이스케이프 문자 중 \\\\n을 이용하여 여러 줄이 있는 문자열 생성하기"
      ]
    },
    {
      "cell_type": "code",
      "metadata": {
        "id": "zMYWPPOGAmOG"
      },
      "source": [
        "a = \"나는\\n토마토를\\n좋아한다\"\n",
        "print(a)"
      ],
      "execution_count": null,
      "outputs": []
    },
    {
      "cell_type": "markdown",
      "metadata": {
        "id": "6dUy2BWFAdgX"
      },
      "source": [
        "* 여러 줄의 문자열을 입력할 경우에는 삼중 따옴표 (''' 또는 \"\"\")을 이용해야 함"
      ]
    },
    {
      "cell_type": "code",
      "metadata": {
        "id": "tzdVd_qbAtnG"
      },
      "source": [
        "a = '''\n",
        "나는\n",
        "토마토를\n",
        "좋아한다\n",
        "'''\n",
        "b = \"\"\"\n",
        "그도\n",
        "토마토를\n",
        "좋아한다\n",
        "\"\"\"\n",
        "print(a, b)"
      ],
      "execution_count": null,
      "outputs": []
    },
    {
      "cell_type": "markdown",
      "metadata": {
        "id": "JPqwSePQBaET"
      },
      "source": [
        "## 문자열 연산\n"
      ]
    },
    {
      "cell_type": "markdown",
      "metadata": {
        "id": "1yz8eJuqBif9"
      },
      "source": [
        "* `+` : 문자열을 연결\n",
        "* `*` : 문자열을 반복\n",
        "* 모든 사칙 연산이 가능한 것이 아니라 덧셈과 곱셈만 가능"
      ]
    },
    {
      "cell_type": "code",
      "metadata": {
        "id": "R0Xdmu70Bs9V"
      },
      "source": [
        "a, b, c = \"나는\", \"토마토를\", \"좋아한다\"\n",
        "print(a + b + c)\n"
      ],
      "execution_count": null,
      "outputs": []
    },
    {
      "cell_type": "code",
      "metadata": {
        "id": "ShvRZODWBzCM"
      },
      "source": [
        "a = \"토마토\"\n",
        "print(a * 3)"
      ],
      "execution_count": null,
      "outputs": []
    },
    {
      "cell_type": "markdown",
      "metadata": {
        "id": "E6y-OVu_B2NU"
      },
      "source": [
        "* `len()`: 문자열의 문자개수 카운팅"
      ]
    },
    {
      "cell_type": "code",
      "metadata": {
        "id": "UG7KQ-ieCKl-"
      },
      "source": [
        "a = \"토마토\"\n",
        "print(len(a))\n",
        "print(len(a*3))\n"
      ],
      "execution_count": null,
      "outputs": []
    },
    {
      "cell_type": "markdown",
      "metadata": {
        "id": "7UVEAPwbCNm2"
      },
      "source": [
        "## 인덱싱과 슬라이싱\n",
        "\n",
        "* `인덱싱` : 자료 구조 내에서 1개의 항목에 접근하는 방식\n",
        "* `슬라이싱` : 자료 구조 내에서 여러 개의 항목에 접근하는 방식\n",
        "* 하나의 문자가 하나의 위치를 가짐\n",
        "* 첫번째 위치가 0에서 시작함\n",
        "* 맨 뒤의 위치가 -1에서부터 시작함\n",
        "* 문자의 위치를 대괄호[ ]를 이용하여 호출 가능\n",
        "* `:`을 이용하여 슬라이싱 가능\n",
        "* `Start:End`의 경우 Start위치부터 End-1 인덱스까지 문자열 추출"
      ]
    },
    {
      "cell_type": "markdown",
      "metadata": {
        "id": "LpPe3dXhCozH"
      },
      "source": [
        "![image.png](data:image/png;base64,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)"
      ]
    },
    {
      "cell_type": "code",
      "metadata": {
        "id": "NPzuBcYlCzr7"
      },
      "source": [
        "a = \"Tomato\"\n",
        "print(a)\n",
        "print(a[0])\n",
        "print(a[1])\n",
        "print(a[2])\n",
        "print(a[3])\n",
        "print(a[4])\n",
        "print(a[5])"
      ],
      "execution_count": null,
      "outputs": []
    },
    {
      "cell_type": "code",
      "metadata": {
        "id": "RGZ7Uzi-C9pD"
      },
      "source": [
        "a = \"Tomato\"\n",
        "print(a[1:5])\n",
        "print(a[1:])\n",
        "print(a[:3])\n",
        "print(a[:])\n",
        "print(a[-4:-1])\n",
        "print(a[:-1])\n",
        "print(a[:-1:2])"
      ],
      "execution_count": null,
      "outputs": []
    },
    {
      "cell_type": "code",
      "source": [
        "# Error 대처\n",
        "a = \"Tomato\"\n",
        "a[10]"
      ],
      "metadata": {
        "id": "gvQSeWSU8QTU"
      },
      "execution_count": null,
      "outputs": []
    },
    {
      "cell_type": "markdown",
      "metadata": {
        "id": "4VdFaA_1D2Cr"
      },
      "source": [
        "## 문자열 메소드"
      ]
    },
    {
      "cell_type": "markdown",
      "metadata": {
        "id": "13ZU83TdEGGh"
      },
      "source": [
        "함수 | 설명 | 예시\n",
        ":--- | :--- | :---\n",
        "count(x) | 주어진 문자 내에서 부분 문자열 x 개수 카운팅 | a.count(x)\n",
        "find(x) | 주어진 문자 내에서 부분 문자열 x의 가장 작은 인덱스 반환 | a.find(x)\n",
        "rfind(x) | 주어진 문자 내에서 부분 문자열 x의 가장 큰 인덱스 반환 | a.rfind(x)\n",
        "index(x) | find()와 동일하나, x가 없을 경우 에러 발생 | a.index(x)\n",
        "rindex(x) | rfind()와 동일하나, x가 없을 경우 에러 발생 | a.rindex(x)\n"
      ]
    },
    {
      "cell_type": "code",
      "metadata": {
        "id": "-NoEM3dvJPgH"
      },
      "source": [
        "a = \"Tomato\"\n",
        "print(a)\n",
        "print(a.count(\"o\"))\n",
        "print(a.count(\"T\"))\n",
        "print(a.count(\"s\"))"
      ],
      "execution_count": null,
      "outputs": []
    },
    {
      "cell_type": "code",
      "metadata": {
        "id": "D-U3y7w6JcZv"
      },
      "source": [
        "a = \"Tomato\"\n",
        "print(a.find(\"t\"))\n",
        "print(a.rfind(\"o\"))"
      ],
      "execution_count": null,
      "outputs": []
    },
    {
      "cell_type": "code",
      "metadata": {
        "id": "zd9njduUJlBY"
      },
      "source": [
        "a = \"Tomato\"\n",
        "print(a.index(\"t\"))\n",
        "print(a.rindex(\"o\"))"
      ],
      "execution_count": null,
      "outputs": []
    },
    {
      "cell_type": "markdown",
      "metadata": {
        "id": "0Rl52_Y_JsYR"
      },
      "source": [
        "함수 | 설명 | 예시\n",
        ":--- | :--- | :---\n",
        "isalnum() | 주어진 문자가 영문자 또는 숫자로만 이루어진 경우 True 반환 | a.isalnum()\n",
        "isalpha() | 주어진 문자가 영문자로만 이루어진 경우 True | a.isalpha()\n",
        "isdigit() | 주어진 문자가 숫자로만 이루어진 경우 True | a.isdigit()\n",
        "isspace() | 주어진 문자 내에 공백이 있는 경우 True | a.isspace()\n",
        "islower() | 주어진 문자가 모두 소문자로 이루어진 경우 True | a.islower()\n",
        "isupper() | 주어진 문자가 모두 대문자로 이루어진 경우 True | a.isupper()"
      ]
    },
    {
      "cell_type": "code",
      "metadata": {
        "id": "ZCef9zkEJ0CR"
      },
      "source": [
        "a, b = \"tomato\", \"a123\"\n",
        "print(a.isalnum())\n",
        "print(b.isalpha())\n",
        "print(a.isdigit())\n",
        "print(a.isspace())\n",
        "print(a.islower())\n",
        "print(a.isupper())"
      ],
      "execution_count": null,
      "outputs": []
    },
    {
      "cell_type": "markdown",
      "metadata": {
        "id": "FYGTQn01J2NI"
      },
      "source": [
        "함수 | 설명 | 예시\n",
        ":--- | :--- | :---\n",
        "join(x) | 주어진 문자 뒤에 부분 문자열 x의 원소단위로 연결 | a.join(x)\n",
        "center(n) | 주어진 문자를 가운데 정렬한 n 너비의 문자열 반환 | a.center(n)\n",
        "ljust(n) | 주어진 문자를 왼쪽 정렬한 n 너비의 문자열 반환 | a.ljust(n)\n",
        "rjust(n) | 주어진 문자를 오른쪽 정렬한 n 너비의 문자열 반환 | a.rjust(n)"
      ]
    },
    {
      "cell_type": "code",
      "metadata": {
        "id": "KB5N2wblKMR3"
      },
      "source": [
        "a, b = \"tomato\", \"123\"\n",
        "print(a.join(b))\n",
        "print(a.center(10))\n",
        "print(a.ljust(10))\n",
        "print(a.rjust(10))"
      ],
      "execution_count": null,
      "outputs": []
    },
    {
      "cell_type": "markdown",
      "metadata": {
        "id": "9EKGUSmrKUxo"
      },
      "source": [
        "함수 | 설명 | 예시\n",
        ":--- | :--- | :---\n",
        "lower() | 주어진 문자를 모두 소문자로 변환 | a.lower()\n",
        "upper() | 주어진 문자를 모두 대문자로 변환 | a.upper()\n",
        "swapcase() | 주어진 문자 내에서 대문자는 소문자로, 소문자는 대문자로 변환 | a.swapcase()"
      ]
    },
    {
      "cell_type": "code",
      "source": [
        "str_a = \"tHIS\"\n",
        "\n",
        "str_b = \"iS\"\n",
        "\n",
        "str_c = \"PythoN\"\n",
        "\n",
        "print(str_a.swapcase() + \" \" + str_b.swapcase() + \" \" + str_c.upper())"
      ],
      "metadata": {
        "id": "BwL5ZHLPiKUV"
      },
      "execution_count": null,
      "outputs": []
    },
    {
      "cell_type": "code",
      "metadata": {
        "id": "kqD8cm-0KaSx"
      },
      "source": [
        "a = \"Tomato\"\n",
        "print(a.lower())\n",
        "print(a.upper())\n",
        "print(a.swapcase())"
      ],
      "execution_count": null,
      "outputs": []
    },
    {
      "cell_type": "markdown",
      "metadata": {
        "id": "MmVnFrIXKgQB"
      },
      "source": [
        "함수 | 설명 | 예시\n",
        ":--- | :--- | :---\n",
        "strip() | 주어진 문자 내 양쪽 공백 제거 | a.strip()\n",
        "lstrip() | 주어진 문자 내 왼쪽 공백 제거 | a.lstrip()\n",
        "rstrip() | 주어진 문자 내 오른쪽 공백 제거 | a.rstrip()"
      ]
    },
    {
      "cell_type": "code",
      "metadata": {
        "id": "nVlWly6fKwdP"
      },
      "source": [
        "a = \" Tomato is very delicious. \"\n",
        "print(a.strip())\n",
        "print(a.lstrip())\n",
        "print(a.rstrip())"
      ],
      "execution_count": null,
      "outputs": []
    },
    {
      "cell_type": "markdown",
      "metadata": {
        "id": "cH36Ser5Kzeg"
      },
      "source": [
        "함수 | 설명 | 예시\n",
        ":--- | :--- | :---\n",
        "partition(x) | 주어진 문자 내에서 첫번째 나타난 부분 문자열 x 의 위치에서 분할하여 3개의 튜플 반환 | a.partition(x)\n",
        "rpartition(x) | 주어진 문자 내에서 마지막 나타난 부분 문자열 x 의 위치에서 분할하여 3개의 튜플 반환 | a.rpartition(x)\n",
        "split(sep=None) | 주어진 문자열에서 구분 문자열 sep을 이용하여 분할된 리스트 반환 | a.split(sep)\n"
      ]
    },
    {
      "cell_type": "code",
      "metadata": {
        "id": "qJh7gX7qK-bf"
      },
      "source": [
        "a = \"Tomato\"\n",
        "print(a.partition(\"o\"))\n",
        "print(a.rpartition(\"o\"))\n",
        "print(a.split(\"o\"))"
      ],
      "execution_count": null,
      "outputs": []
    },
    {
      "cell_type": "markdown",
      "metadata": {
        "id": "87YTcqHOLIS5"
      },
      "source": [
        "함수 | 설명 | 예시\n",
        ":--- | :--- | :---\n",
        "startswith(x) | 주어진 문자열이 x로 시작하면 True | a.startwith(x)\n",
        "endswith(x) | 주어진 문자열이 x로 끝나면 True | a.endswith(x)\n",
        "zfill(n) | 주어진 문자 중 공백에 '0'을 채운 n 너비의 문자열 반환 | a.zfill(n)\n",
        "replace(x, y) | 주어진 문자 내에서 부분 문자열 x를 모두 y로 변환 | a.replace(x, y)\n"
      ]
    },
    {
      "cell_type": "code",
      "metadata": {
        "id": "BJ6HOtgWLXxP"
      },
      "source": [
        "a, b = \"Tomato\", \"Tomato is good\"\n",
        "print(a.startswith(\"t\"))\n",
        "print(a.endswith(\"to\"))\n",
        "print(b.zfill(20))\n",
        "print(b.replace(\"Tomato\", \"Apple\"))\n"
      ],
      "execution_count": null,
      "outputs": []
    },
    {
      "cell_type": "markdown",
      "metadata": {
        "id": "bNVuDCdSLbhH"
      },
      "source": [
        "## 문자열 포맷팅\n"
      ]
    },
    {
      "cell_type": "markdown",
      "metadata": {
        "id": "LqFZl8LpLzxo"
      },
      "source": [
        "* 문자열 포맷팅(formatting)을 통해 지정된 위치에 특정값을 삽입할 수 있음\n",
        "* 문자열 내 원하는 위치를 문자열 포맷으로 지정하고, `%` 뒤에 튜플 형식으로 입력할 값 지정\n",
        "* 문자열 포맷\n",
        "\n",
        "코드 | 명칭\n",
        ":--- | :---\n",
        "%c | 문자 (character)\n",
        "%s | 문자열 (string)\n",
        "%d | 정수 (integer)\n",
        "%f | 실수(floating-point)\n",
        "%% | 문자 '%'"
      ]
    },
    {
      "cell_type": "code",
      "metadata": {
        "id": "ageSM7VcMQqg"
      },
      "source": [
        "print(\"토마토가 %d개 있다\" % 10)\n",
        "print(\"나는 %s를 %d만큼 좋아한다\" % (\"토마토\", 3000))"
      ],
      "execution_count": null,
      "outputs": []
    },
    {
      "cell_type": "markdown",
      "metadata": {
        "id": "jtVMNa4uMZUA"
      },
      "source": [
        "* `{}`와 `format()`을 이용하여 지정\n",
        "    * 방식1 : format() 내 입력값의 인덱스를 이용하는 방식\n",
        "    * 방식2 : 변수이름을 이용하는 방식. 변수 순서 변경 가능."
      ]
    },
    {
      "cell_type": "code",
      "metadata": {
        "id": "hAEgbuLzNEE0"
      },
      "source": [
        "print(\"나는 {0}를 {1}만큼 좋아한다\".format(\"토마토\", 3000))\n",
        "print(\"나는 {a}를 {b}만큼 좋아한다\".format(a=\"사과\", b=3000))\n",
        "print(\"나는 {a}를 {b}만큼 좋아한다\".format(b=3000, a=\"사과\"))"
      ],
      "execution_count": null,
      "outputs": []
    },
    {
      "cell_type": "markdown",
      "metadata": {
        "id": "kgjFfPzgNGdh"
      },
      "source": [
        "* f포맷팅\n",
        "    * 문자열 앞에 `f`를 붙임\n",
        "    * 뒤쪽에 `format()`을 지정하지 않아도 기존 변수로 포맷팅 가능"
      ]
    },
    {
      "cell_type": "code",
      "metadata": {
        "id": "w2dteS8mN8i1"
      },
      "source": [
        "a = \"토마토\"\n",
        "b = \"딸기\"\n",
        "print(f\"나는 {a}를 {b}만큼 좋아한다\")"
      ],
      "execution_count": null,
      "outputs": []
    },
    {
      "cell_type": "markdown",
      "metadata": {
        "id": "aJiI8M9JONyK"
      },
      "source": [
        "# 리스트 (list)와 튜플(tuple)"
      ]
    },
    {
      "cell_type": "markdown",
      "metadata": {
        "id": "bwKc8LEVOimO"
      },
      "source": [
        "## 리스트 생성\n",
        "\n",
        "* 시퀀스 데이터를 다루는 자료형이다. 즉 데이터에 순서가 있음\n",
        "* 시퀀스 자료형에는 **String, List, Tuple**이 있음\n",
        "* 변경, 추가, 삭제 가능\n",
        "* 하나의 객체에 여러 객체 할당 가능\n",
        "* 다른 자료형을 갖는 값 포함 가능\n",
        "* `[ ]`: 원소를 콤마(,)를 기준으로 입력\n",
        "* `list()`: 리스트, 튜플, 문자열을 넣어서 리스트로 변환\n"
      ]
    },
    {
      "cell_type": "code",
      "metadata": {
        "id": "Y5GhPVQqO3Sf"
      },
      "source": [
        "print([])\n",
        "print([1,2,3])\n",
        "print([\"a\", \"b\", \"c\"])\n",
        "print([1,\"a\", 2, \"b\", 3, \"c\"])\n",
        "print([1, 2, 3, [\"a\", \"b\", \"c\"]])\n",
        "print([1, 2, 3, (1, 2, 3)])\n",
        "print(list((1,2,3)))\n",
        "print(list([1,2,3]))"
      ],
      "execution_count": null,
      "outputs": []
    },
    {
      "cell_type": "markdown",
      "metadata": {
        "id": "8fTNB2qMVjy6"
      },
      "source": [
        "* 리스트 연산\n",
        "    * `+` : 리스트 내 원소 연결\n",
        "    * '*` : 리스트 내 원소 반복\n",
        "    * `len()` : 리스트 길이 계산"
      ]
    },
    {
      "cell_type": "code",
      "metadata": {
        "id": "Jr7Sw7oPWE4E"
      },
      "source": [
        "a, b = [1, 2, 3], [4, 5, 6, 7]\n",
        "print(a + b)\n",
        "print(a * 3)\n",
        "print(len(a), len(b))"
      ],
      "execution_count": null,
      "outputs": []
    },
    {
      "cell_type": "markdown",
      "metadata": {
        "id": "N2UzY81LPClP"
      },
      "source": [
        "## 인덱싱과 슬라이싱"
      ]
    },
    {
      "cell_type": "markdown",
      "metadata": {
        "id": "P3ip-VdpQIhJ"
      },
      "source": [
        "![image.png](data:image/png;base64,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)"
      ]
    },
    {
      "cell_type": "code",
      "metadata": {
        "id": "_rOvTfowQKws"
      },
      "source": [
        "a = [1, 2, 3, [1,2,3]]\n",
        "print(a[0])\n",
        "print(a[1])\n",
        "print(a[2])\n",
        "print(a[3])\n",
        "print(a[1:3])\n",
        "print(a[0:])\n",
        "print(a[:3])"
      ],
      "execution_count": null,
      "outputs": []
    },
    {
      "cell_type": "markdown",
      "metadata": {
        "id": "VvUHBgUPQbz6"
      },
      "source": [
        "* 중첩된 리스트 인덱싱"
      ]
    },
    {
      "cell_type": "code",
      "metadata": {
        "id": "UdyKlCxnQkMK"
      },
      "source": [
        "a = [1, 2, 3, [1,2,3]]\n",
        "print(a[3])\n",
        "print(a[3][0])\n",
        "print(a[3][1])\n",
        "print(a[3][2])\n",
        "print(a[3][1:])\n",
        "print(a[3][:2])"
      ],
      "execution_count": null,
      "outputs": []
    },
    {
      "cell_type": "markdown",
      "metadata": {
        "id": "ImHyGW9hQx4d"
      },
      "source": [
        "* 리스트 수정"
      ]
    },
    {
      "cell_type": "code",
      "metadata": {
        "id": "ZRxx7g7vRPn9"
      },
      "source": [
        "a = [1, 2, 3, [1,2,3]]\n",
        "print(a)\n",
        "a[0] = \"one\"\n",
        "a[2] = \"three\"\n",
        "print(a)"
      ],
      "execution_count": null,
      "outputs": []
    },
    {
      "cell_type": "markdown",
      "source": [
        "* 증가값   \n",
        "`변수명[Start:End:Step]`의 경우 Step만큼 건너뛰면서 인덱스 Start와 End-1까지의 리스트 추출"
      ],
      "metadata": {
        "id": "rmMsCG9clh0M"
      }
    },
    {
      "cell_type": "code",
      "source": [
        "cities = ['서울', '부산', '인천', '대구', '대전', '광주', '울산', '수원']\n",
        "\n",
        "# 두 칸 단위로 슬라이싱\n",
        "print(cities[::2])\n",
        "\n",
        "# 역으로 슬라이싱\n",
        "print(cities[::-1])"
      ],
      "metadata": {
        "id": "ycV47HIylmwM"
      },
      "execution_count": null,
      "outputs": []
    },
    {
      "cell_type": "markdown",
      "metadata": {
        "id": "j6Vy2skJRhLE"
      },
      "source": [
        "## 리스트 메소드\n",
        "\n",
        "### 1. 리스트 요소 추가하기\n",
        "\n",
        "함수 | 설명 | 예시\n",
        ":--- | :--- | :----\n",
        "append(x) | 주어진 리스트 뒤에 1개의 요소 추가 | a.append(x)\n",
        "extend(x) | 주어진 리스트 뒤에 여러 개의 요소 추가 | a.extend(x)\n",
        "insert(x) | 주어진 리스트 내에서 원하는 위치에 요소 추가 | a.insert(x)\n",
        "\n",
        "\n",
        "\n"
      ]
    },
    {
      "cell_type": "code",
      "metadata": {
        "id": "5KLa749ISbPt"
      },
      "source": [
        "a = [1, 2, 3]\n",
        "a.append(4); print(a)\n",
        "a.extend([10, 11, 12]); print(a)\n",
        "a.insert(4,5); print(a)\n",
        "\n",
        "# 리스트 중간에 여러 개의 요소 추가\n",
        "# [시작:끝] 형태에서 시작과 끝을 같게 한다면 인덱스의 요소를 덮어쓰지 않고 리스트 추가 가능\n",
        "a[5:5] = [6,7,8,9]; print(a)"
      ],
      "execution_count": null,
      "outputs": []
    },
    {
      "cell_type": "markdown",
      "metadata": {
        "id": "sMgq52VESdU0"
      },
      "source": [
        "### 2. 리스트에서 요소 삭제하기\n",
        "\n",
        "함수 | 설명 | 예시\n",
        ":--- | :--- | :----\n",
        "remove(x) | 주어진 리스트에서 가장 처음 나오는 요소 삭제 | a.remove(x)\n",
        "del(n) | 주어진 리스트에서 해당 인덱스의 요소 삭제 | del a[n]\n",
        "pop(n) | 주어진 리스트에서 해당 인덱스의 요소 방출. 미입력시 마지막값 방출 | a.pop(n)"
      ]
    },
    {
      "cell_type": "code",
      "source": [
        "a = [3, 1, 2, 3, 4, 5]\n",
        "a.remove(3); print(a)\n",
        "del a[2:3]; print(a)"
      ],
      "metadata": {
        "id": "nCUE8XZAlxqt"
      },
      "execution_count": null,
      "outputs": []
    },
    {
      "cell_type": "code",
      "metadata": {
        "id": "GczQ2-VlTsFj"
      },
      "source": [
        "a = [1, 2, 3, 4, 5]\n",
        "a.pop(); print(a)\n",
        "a.pop(0); print(a)"
      ],
      "execution_count": null,
      "outputs": []
    },
    {
      "cell_type": "markdown",
      "metadata": {
        "id": "q6fE0IQqT4Vc"
      },
      "source": [
        "### 3. 이외 유용한 리스트 관련 메소드\n",
        "\n",
        "함수 | 설명 | 예시\n",
        ":--- | :--- | :----\n",
        "sort() | 주어진 리스트 내의 요소 정렬 | a.sort()\n",
        "reverse() | 주어진 리스트 요소를 반대방향으로 정렬 | a.reverse()\n",
        "index(x)  | 주어진 리스트 내 지정한 요소에 대한 인덱스 반환 | a.index(x)\n",
        "count(x) | 주어진 리스트 내 요소 중 x의 개수 카운팅 | a.count(x)"
      ]
    },
    {
      "cell_type": "code",
      "source": [
        "a = [3,2,1,4,5,3]\n",
        "a.sort(); print(a)\n",
        "a.reverse(); print(a)"
      ],
      "metadata": {
        "id": "xgIhJGucGaph"
      },
      "execution_count": null,
      "outputs": []
    },
    {
      "cell_type": "code",
      "source": [
        "a = [3,2,1,4,5,3]\n",
        "a.reverse(); print(a)"
      ],
      "metadata": {
        "id": "Z2mhO_EBGLtj"
      },
      "execution_count": null,
      "outputs": []
    },
    {
      "cell_type": "code",
      "source": [
        "a = [3,2,1,4,5,3]\n",
        "a.sort(reverse=True); print(a)"
      ],
      "metadata": {
        "id": "c5kA0lWkGJnO"
      },
      "execution_count": null,
      "outputs": []
    },
    {
      "cell_type": "code",
      "metadata": {
        "id": "38I-5cYvUXz6"
      },
      "source": [
        "a = [3,2,1,4,5,3]\n",
        "print(a.index(2))\n",
        "\n",
        "a = [3,2,1,4,5,3]\n",
        "print(a.count(3))"
      ],
      "execution_count": null,
      "outputs": []
    },
    {
      "cell_type": "markdown",
      "metadata": {
        "id": "T4Y1wrl9UcUa"
      },
      "source": [
        "## 튜플 (tuple)"
      ]
    },
    {
      "cell_type": "markdown",
      "metadata": {
        "id": "wiDH30M6U7m7"
      },
      "source": [
        "* 시퀀스형 자료값으로 리스트와 달리 변경 불가\n",
        "* 하나의 객체에 여러 객체 할당 가능\n",
        "* 다른 자료형을 갖는 값 포함 가능\n",
        "* `()`: 원소를 콤마(,)를 기준으로 입력. 1개의 요소를 가질 때 요소 뒤에 콤마(,)를 반드시 붙여야 함\n",
        "* `tuple()`: 리스트, 튜플, 문자열을 넣어서 튜플로 변환\n",
        "* 이 외 모든 연산이 리스트와 동일"
      ]
    },
    {
      "cell_type": "code",
      "metadata": {
        "id": "vI4bYGMVVHTk"
      },
      "source": [
        "print(())\n",
        "print((1,2,3))\n",
        "print((\"a\", \"b\", \"c\"))\n",
        "print((1,\"a\", 2, \"b\", 3, \"c\"))\n",
        "print((1, 2, 3, [\"a\", \"b\", \"c\"]))\n",
        "print((1, 2, 3, (1, 2, 3)))\n",
        "print(tuple((1,2,3)))\n",
        "print(tuple([1,2,3]))"
      ],
      "execution_count": null,
      "outputs": []
    },
    {
      "cell_type": "code",
      "source": [
        "tuple1 = (0)\n",
        "tuple2 = (0,)\n",
        "\n",
        "print(\"tuple1 : \", type(tuple1))\n",
        "print(\"tuple2 : \", type(tuple2))"
      ],
      "metadata": {
        "id": "mtR11PAZHKqK"
      },
      "execution_count": null,
      "outputs": []
    },
    {
      "cell_type": "code",
      "source": [
        "# 객체 선언 시 tuple은 괄호() 생략 가능\n",
        "tuple3 = 2,3,4,5,6\n",
        "print(type(tuple3))\n",
        "print(type((2,3,4,5,6)))"
      ],
      "metadata": {
        "id": "fQsNIR5IHWXS"
      },
      "execution_count": null,
      "outputs": []
    },
    {
      "cell_type": "code",
      "source": [
        "# 삭제 불가능\n",
        "a = (1,\"a\", 2, \"b\", 3, \"c\")\n",
        "del a[0]"
      ],
      "metadata": {
        "id": "SH_G_k_5Hh6K"
      },
      "execution_count": null,
      "outputs": []
    },
    {
      "cell_type": "code",
      "source": [
        "# 수정 불가능\n",
        "a[1] =\"a\""
      ],
      "metadata": {
        "id": "0OgXvVtxIdTP"
      },
      "execution_count": null,
      "outputs": []
    },
    {
      "cell_type": "markdown",
      "source": [
        "# 딕셔너리 (Dictionary)\n",
        "\n",
        "* 순서가 존재하지 않는 자료형\n",
        "* 키(key)와 값(value)를 한 쌍으로 갖는 자료형\n",
        "* 구분자(:)를 이용하여 key와 value를 하나의 값으로 저장\n",
        "* 중괄호 { }을 이용하여 딕셔너리 선언\n",
        "* `dict()`을 이용하여 딕셔너리를 선언하기도 함\n",
        "* `dictionary의 이름[key]`의 형태로 key의 value에 접근\n",
        "\n"
      ],
      "metadata": {
        "id": "hsiaOzHGJB2F"
      }
    },
    {
      "cell_type": "markdown",
      "source": [
        "![딕셔너리구조 이미지.PNG](data:image/png;base64,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)"
      ],
      "metadata": {
        "id": "k-PuFAX7JQgK"
      }
    },
    {
      "cell_type": "code",
      "source": [
        "dic = {'major' : '통계학과', 'age': 20, 'region': 'Seoul'}\n",
        "print(dic['major'])"
      ],
      "metadata": {
        "id": "719F9jSJLbo7"
      },
      "execution_count": null,
      "outputs": []
    },
    {
      "cell_type": "code",
      "source": [
        "# 나이와 지역의 value 값을 출력하세요.\n"
      ],
      "metadata": {
        "id": "iwxPST3PMTF6"
      },
      "execution_count": null,
      "outputs": []
    },
    {
      "cell_type": "markdown",
      "source": [
        "## 딕셔너리 메소드  \n",
        "함수 | 설명 | 예시\n",
        ":--- | :--- | :----\n",
        "keys() | 딕셔너리 내부에 key 값만 모아서 dict_keys 출력 | a.keys()\n",
        "values() | 딕셔너리 내부에 values 값만 모아서 dict_values 출력 | a.values()\n",
        "items() | key와 value 쌍을 튜플로 묶어서 반환 | a.items()\n",
        "get() | key 값에 대응하는 value 반환. 존재하지 않는 key 호출 시 None 반환| a.get()"
      ],
      "metadata": {
        "id": "lm3_-E_FMzuf"
      }
    },
    {
      "cell_type": "code",
      "source": [
        "dic = {'major' : '통계학과', 'age': 20, 'region': 'Seoul'}\n",
        "print(dic.keys())\n",
        "print(dic.values())\n",
        "print(dic.items())\n",
        "print(dic.get('major'))"
      ],
      "metadata": {
        "id": "2slgIZZzM3jD"
      },
      "execution_count": null,
      "outputs": []
    },
    {
      "cell_type": "markdown",
      "source": [
        "# **THE END**"
      ],
      "metadata": {
        "id": "RC1A6nZmOEPg"
      }
    }
  ]
}